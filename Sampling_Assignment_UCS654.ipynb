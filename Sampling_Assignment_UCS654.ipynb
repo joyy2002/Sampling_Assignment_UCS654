{
  "cells": [
    {
      "cell_type": "code",
      "execution_count": 1,
      "metadata": {
        "id": "BPoj0SP8lF9Y"
      },
      "outputs": [],
      "source": [
        "import pandas as pd\n",
        "import numpy as np\n",
        "import seaborn as sns\n",
        "import matplotlib.pyplot as plt\n",
        "import scipy.stats\n",
        "\n",
        "\n",
        "df = pd.read_csv('/content/Creditcard_data.csv')"
      ]
    },
    {
      "cell_type": "markdown",
      "metadata": {
        "id": "BMCR3y04lF9h"
      },
      "source": [
        "## Sampling:\n",
        "1.  Oversampling:\n",
        "    -   Random Oversampling: balance the class distribution by randomly duplicating the instances of the minority class\n",
        "    -   SMOTE: Generates synthetic samples by focusing on the minority samples\n",
        "2.  Undersampling:\n",
        "    -   Random Undersampling: balance the class distribution by randomly duplicating the instances of the majority class\n",
        "    -   Tomek Links: Identifies and remove instances that are considered ambiguous or near the decision boundary between classes\n",
        "    -   Near miss: Identifies instances which are close to instances from minority class, aiming to retain the instances that are more difficult to classify correctly\n",
        "###\n",
        "**We will use imbalanced-learn library**"
      ]
    },
    {
      "cell_type": "code",
      "execution_count": 2,
      "metadata": {
        "id": "PzCuhzl5lF9i"
      },
      "outputs": [],
      "source": [
        "from imblearn.under_sampling import RandomUnderSampler, TomekLinks, NearMiss\n",
        "from imblearn.over_sampling import RandomOverSampler, SMOTE\n",
        "from imblearn.combine import SMOTETomek, SMOTEENN"
      ]
    },
    {
      "cell_type": "markdown",
      "metadata": {
        "id": "SkEyQHO7lF9i"
      },
      "source": [
        "## Evaluating each sampling technique on different models:\n",
        "1. **RandomForest Classifier**\n",
        "2. **XGBoost Classifier**\n",
        "3. **DecisionTree**\n",
        "4. **Support Vector Classifiers (SVC)**\n",
        "5. **LogisticRegression**"
      ]
    },
    {
      "cell_type": "code",
      "execution_count": 4,
      "metadata": {
        "id": "s-7mNHOelF9i"
      },
      "outputs": [],
      "source": [
        "from xgboost import XGBClassifier\n",
        "from sklearn.svm import SVC\n",
        "from sklearn.tree import DecisionTreeRegressor\n",
        "from sklearn.linear_model import LogisticRegression\n",
        "from sklearn.ensemble import RandomForestClassifier\n",
        "from sklearn.model_selection import train_test_split, cross_val_score\n",
        "from sklearn.metrics import accuracy_score, precision_score, recall_score, f1_score\n",
        "\n",
        "X = df.drop(columns = 'Class')\n",
        "y = df['Class']\n",
        "\n",
        "X_train, X_test, y_train, y_test = train_test_split(X, y, test_size = 0.2, random_state = 42)"
      ]
    },
    {
      "cell_type": "code",
      "execution_count": 5,
      "metadata": {
        "id": "dXEAQd8NlF9j"
      },
      "outputs": [],
      "source": [
        "models = {\n",
        "   'DecisionTree': DecisionTreeRegressor(random_state=42),\n",
        "    'XGBoost': XGBClassifier(random_state=42, verbosity=0),\n",
        "    'LogisticRegression': LogisticRegression(random_state=42),\n",
        "    'SVC': SVC(random_state=42),\n",
        "    'RandomForest': RandomForestClassifier(random_state=42)\n",
        "}\n",
        "\n",
        "samplers = {\n",
        "    'RandomOverSampler': RandomOverSampler(sampling_strategy='auto', random_state=42),\n",
        "    'SMOTE': SMOTE(sampling_strategy='auto', random_state=42),\n",
        "    'RandomUnderSampler': RandomUnderSampler(sampling_strategy='auto', random_state=42),\n",
        "    'NearMiss': NearMiss(sampling_strategy='auto', version=1),\n",
        "    'TomekLinks': TomekLinks(sampling_strategy='auto')\n",
        "}\n",
        "\n",
        "\n",
        "\n"
      ]
    },
    {
      "cell_type": "code",
      "execution_count": 6,
      "metadata": {
        "colab": {
          "base_uri": "https://localhost:8080/"
        },
        "id": "aIIehjSOlF9j",
        "outputId": "4007939f-5e35-4bb3-f5e1-ae4222487b72"
      },
      "outputs": [
        {
          "output_type": "stream",
          "name": "stderr",
          "text": [
            "<ipython-input-6-16b9b1f84a50>:16: FutureWarning: The frame.append method is deprecated and will be removed from pandas in a future version. Use pandas.concat instead.\n",
            "  results_table = results_table.append({\n",
            "<ipython-input-6-16b9b1f84a50>:16: FutureWarning: The frame.append method is deprecated and will be removed from pandas in a future version. Use pandas.concat instead.\n",
            "  results_table = results_table.append({\n",
            "<ipython-input-6-16b9b1f84a50>:16: FutureWarning: The frame.append method is deprecated and will be removed from pandas in a future version. Use pandas.concat instead.\n",
            "  results_table = results_table.append({\n",
            "<ipython-input-6-16b9b1f84a50>:16: FutureWarning: The frame.append method is deprecated and will be removed from pandas in a future version. Use pandas.concat instead.\n",
            "  results_table = results_table.append({\n",
            "<ipython-input-6-16b9b1f84a50>:16: FutureWarning: The frame.append method is deprecated and will be removed from pandas in a future version. Use pandas.concat instead.\n",
            "  results_table = results_table.append({\n",
            "/usr/local/lib/python3.10/dist-packages/sklearn/metrics/_classification.py:1344: UndefinedMetricWarning: Precision is ill-defined and being set to 0.0 due to no predicted samples. Use `zero_division` parameter to control this behavior.\n",
            "  _warn_prf(average, modifier, msg_start, len(result))\n",
            "<ipython-input-6-16b9b1f84a50>:16: FutureWarning: The frame.append method is deprecated and will be removed from pandas in a future version. Use pandas.concat instead.\n",
            "  results_table = results_table.append({\n",
            "<ipython-input-6-16b9b1f84a50>:16: FutureWarning: The frame.append method is deprecated and will be removed from pandas in a future version. Use pandas.concat instead.\n",
            "  results_table = results_table.append({\n",
            "<ipython-input-6-16b9b1f84a50>:16: FutureWarning: The frame.append method is deprecated and will be removed from pandas in a future version. Use pandas.concat instead.\n",
            "  results_table = results_table.append({\n",
            "<ipython-input-6-16b9b1f84a50>:16: FutureWarning: The frame.append method is deprecated and will be removed from pandas in a future version. Use pandas.concat instead.\n",
            "  results_table = results_table.append({\n",
            "/usr/local/lib/python3.10/dist-packages/sklearn/metrics/_classification.py:1344: UndefinedMetricWarning: Precision is ill-defined and being set to 0.0 due to no predicted samples. Use `zero_division` parameter to control this behavior.\n",
            "  _warn_prf(average, modifier, msg_start, len(result))\n",
            "<ipython-input-6-16b9b1f84a50>:16: FutureWarning: The frame.append method is deprecated and will be removed from pandas in a future version. Use pandas.concat instead.\n",
            "  results_table = results_table.append({\n",
            "/usr/local/lib/python3.10/dist-packages/sklearn/linear_model/_logistic.py:458: ConvergenceWarning: lbfgs failed to converge (status=1):\n",
            "STOP: TOTAL NO. of ITERATIONS REACHED LIMIT.\n",
            "\n",
            "Increase the number of iterations (max_iter) or scale the data as shown in:\n",
            "    https://scikit-learn.org/stable/modules/preprocessing.html\n",
            "Please also refer to the documentation for alternative solver options:\n",
            "    https://scikit-learn.org/stable/modules/linear_model.html#logistic-regression\n",
            "  n_iter_i = _check_optimize_result(\n",
            "<ipython-input-6-16b9b1f84a50>:16: FutureWarning: The frame.append method is deprecated and will be removed from pandas in a future version. Use pandas.concat instead.\n",
            "  results_table = results_table.append({\n",
            "/usr/local/lib/python3.10/dist-packages/sklearn/linear_model/_logistic.py:458: ConvergenceWarning: lbfgs failed to converge (status=1):\n",
            "STOP: TOTAL NO. of ITERATIONS REACHED LIMIT.\n",
            "\n",
            "Increase the number of iterations (max_iter) or scale the data as shown in:\n",
            "    https://scikit-learn.org/stable/modules/preprocessing.html\n",
            "Please also refer to the documentation for alternative solver options:\n",
            "    https://scikit-learn.org/stable/modules/linear_model.html#logistic-regression\n",
            "  n_iter_i = _check_optimize_result(\n",
            "<ipython-input-6-16b9b1f84a50>:16: FutureWarning: The frame.append method is deprecated and will be removed from pandas in a future version. Use pandas.concat instead.\n",
            "  results_table = results_table.append({\n",
            "/usr/local/lib/python3.10/dist-packages/sklearn/linear_model/_logistic.py:458: ConvergenceWarning: lbfgs failed to converge (status=1):\n",
            "STOP: TOTAL NO. of ITERATIONS REACHED LIMIT.\n",
            "\n",
            "Increase the number of iterations (max_iter) or scale the data as shown in:\n",
            "    https://scikit-learn.org/stable/modules/preprocessing.html\n",
            "Please also refer to the documentation for alternative solver options:\n",
            "    https://scikit-learn.org/stable/modules/linear_model.html#logistic-regression\n",
            "  n_iter_i = _check_optimize_result(\n",
            "<ipython-input-6-16b9b1f84a50>:16: FutureWarning: The frame.append method is deprecated and will be removed from pandas in a future version. Use pandas.concat instead.\n",
            "  results_table = results_table.append({\n",
            "/usr/local/lib/python3.10/dist-packages/sklearn/linear_model/_logistic.py:458: ConvergenceWarning: lbfgs failed to converge (status=1):\n",
            "STOP: TOTAL NO. of ITERATIONS REACHED LIMIT.\n",
            "\n",
            "Increase the number of iterations (max_iter) or scale the data as shown in:\n",
            "    https://scikit-learn.org/stable/modules/preprocessing.html\n",
            "Please also refer to the documentation for alternative solver options:\n",
            "    https://scikit-learn.org/stable/modules/linear_model.html#logistic-regression\n",
            "  n_iter_i = _check_optimize_result(\n",
            "<ipython-input-6-16b9b1f84a50>:16: FutureWarning: The frame.append method is deprecated and will be removed from pandas in a future version. Use pandas.concat instead.\n",
            "  results_table = results_table.append({\n",
            "/usr/local/lib/python3.10/dist-packages/sklearn/linear_model/_logistic.py:458: ConvergenceWarning: lbfgs failed to converge (status=1):\n",
            "STOP: TOTAL NO. of ITERATIONS REACHED LIMIT.\n",
            "\n",
            "Increase the number of iterations (max_iter) or scale the data as shown in:\n",
            "    https://scikit-learn.org/stable/modules/preprocessing.html\n",
            "Please also refer to the documentation for alternative solver options:\n",
            "    https://scikit-learn.org/stable/modules/linear_model.html#logistic-regression\n",
            "  n_iter_i = _check_optimize_result(\n",
            "/usr/local/lib/python3.10/dist-packages/sklearn/metrics/_classification.py:1344: UndefinedMetricWarning: Precision is ill-defined and being set to 0.0 due to no predicted samples. Use `zero_division` parameter to control this behavior.\n",
            "  _warn_prf(average, modifier, msg_start, len(result))\n",
            "<ipython-input-6-16b9b1f84a50>:16: FutureWarning: The frame.append method is deprecated and will be removed from pandas in a future version. Use pandas.concat instead.\n",
            "  results_table = results_table.append({\n",
            "<ipython-input-6-16b9b1f84a50>:16: FutureWarning: The frame.append method is deprecated and will be removed from pandas in a future version. Use pandas.concat instead.\n",
            "  results_table = results_table.append({\n",
            "<ipython-input-6-16b9b1f84a50>:16: FutureWarning: The frame.append method is deprecated and will be removed from pandas in a future version. Use pandas.concat instead.\n",
            "  results_table = results_table.append({\n",
            "<ipython-input-6-16b9b1f84a50>:16: FutureWarning: The frame.append method is deprecated and will be removed from pandas in a future version. Use pandas.concat instead.\n",
            "  results_table = results_table.append({\n",
            "<ipython-input-6-16b9b1f84a50>:16: FutureWarning: The frame.append method is deprecated and will be removed from pandas in a future version. Use pandas.concat instead.\n",
            "  results_table = results_table.append({\n",
            "/usr/local/lib/python3.10/dist-packages/sklearn/metrics/_classification.py:1344: UndefinedMetricWarning: Precision is ill-defined and being set to 0.0 due to no predicted samples. Use `zero_division` parameter to control this behavior.\n",
            "  _warn_prf(average, modifier, msg_start, len(result))\n",
            "<ipython-input-6-16b9b1f84a50>:16: FutureWarning: The frame.append method is deprecated and will be removed from pandas in a future version. Use pandas.concat instead.\n",
            "  results_table = results_table.append({\n",
            "/usr/local/lib/python3.10/dist-packages/sklearn/metrics/_classification.py:1344: UndefinedMetricWarning: Precision is ill-defined and being set to 0.0 due to no predicted samples. Use `zero_division` parameter to control this behavior.\n",
            "  _warn_prf(average, modifier, msg_start, len(result))\n",
            "<ipython-input-6-16b9b1f84a50>:16: FutureWarning: The frame.append method is deprecated and will be removed from pandas in a future version. Use pandas.concat instead.\n",
            "  results_table = results_table.append({\n",
            "/usr/local/lib/python3.10/dist-packages/sklearn/metrics/_classification.py:1344: UndefinedMetricWarning: Precision is ill-defined and being set to 0.0 due to no predicted samples. Use `zero_division` parameter to control this behavior.\n",
            "  _warn_prf(average, modifier, msg_start, len(result))\n",
            "<ipython-input-6-16b9b1f84a50>:16: FutureWarning: The frame.append method is deprecated and will be removed from pandas in a future version. Use pandas.concat instead.\n",
            "  results_table = results_table.append({\n",
            "<ipython-input-6-16b9b1f84a50>:16: FutureWarning: The frame.append method is deprecated and will be removed from pandas in a future version. Use pandas.concat instead.\n",
            "  results_table = results_table.append({\n",
            "<ipython-input-6-16b9b1f84a50>:16: FutureWarning: The frame.append method is deprecated and will be removed from pandas in a future version. Use pandas.concat instead.\n",
            "  results_table = results_table.append({\n",
            "/usr/local/lib/python3.10/dist-packages/sklearn/metrics/_classification.py:1344: UndefinedMetricWarning: Precision is ill-defined and being set to 0.0 due to no predicted samples. Use `zero_division` parameter to control this behavior.\n",
            "  _warn_prf(average, modifier, msg_start, len(result))\n",
            "<ipython-input-6-16b9b1f84a50>:16: FutureWarning: The frame.append method is deprecated and will be removed from pandas in a future version. Use pandas.concat instead.\n",
            "  results_table = results_table.append({\n"
          ]
        }
      ],
      "source": [
        "results_table = pd.DataFrame(columns = ['Model', 'Sampler', 'Accuracy'])\n",
        "\n",
        "for model_name, model in models.items():\n",
        "    for sampler_name, sampler in samplers.items():\n",
        "\n",
        "        X_resampled, y_resampled = sampler.fit_resample(X_train, y_train)\n",
        "        model.fit(X_resampled, y_resampled)\n",
        "\n",
        "        y_pred = model.predict(X_test)\n",
        "\n",
        "        accuracy = accuracy_score(y_test, y_pred)\n",
        "        precision = precision_score(y_test, y_pred)\n",
        "        recall = recall_score(y_test, y_pred)\n",
        "        f1 = f1_score(y_test, y_pred)\n",
        "\n",
        "        results_table = results_table.append({\n",
        "            'Model':model_name,\n",
        "            'Sampler':sampler_name,\n",
        "            'Accuracy':accuracy,\n",
        "            # 'Precision':precision,\n",
        "            # 'Recall':recall,\n",
        "            # 'F1 Score':f1\n",
        "        }, ignore_index = True)"
      ]
    },
    {
      "cell_type": "code",
      "execution_count": 7,
      "metadata": {
        "colab": {
          "base_uri": "https://localhost:8080/"
        },
        "id": "iR3kmRTflF9j",
        "outputId": "bc74d150-e8ee-4f0b-e971-39916c47a95f"
      },
      "outputs": [
        {
          "output_type": "stream",
          "name": "stdout",
          "text": [
            "                 Model             Sampler  Accuracy\n",
            "0         DecisionTree   RandomOverSampler  0.987097\n",
            "1         DecisionTree               SMOTE  0.941935\n",
            "2         DecisionTree  RandomUnderSampler  0.574194\n",
            "3         DecisionTree            NearMiss  0.077419\n",
            "4         DecisionTree          TomekLinks  0.974194\n",
            "5              XGBoost   RandomOverSampler  0.993548\n",
            "6              XGBoost               SMOTE  0.980645\n",
            "7              XGBoost  RandomUnderSampler  0.600000\n",
            "8              XGBoost            NearMiss  0.096774\n",
            "9              XGBoost          TomekLinks  0.993548\n",
            "10  LogisticRegression   RandomOverSampler  0.877419\n",
            "11  LogisticRegression               SMOTE  0.877419\n",
            "12  LogisticRegression  RandomUnderSampler  0.593548\n",
            "13  LogisticRegression            NearMiss  0.432258\n",
            "14  LogisticRegression          TomekLinks  0.993548\n",
            "15                 SVC   RandomOverSampler  0.696774\n",
            "16                 SVC               SMOTE  0.670968\n",
            "17                 SVC  RandomUnderSampler  0.625806\n",
            "18                 SVC            NearMiss  0.348387\n",
            "19                 SVC          TomekLinks  0.993548\n",
            "20        RandomForest   RandomOverSampler  0.993548\n",
            "21        RandomForest               SMOTE  0.993548\n",
            "22        RandomForest  RandomUnderSampler  0.709677\n",
            "23        RandomForest            NearMiss  0.393548\n",
            "24        RandomForest          TomekLinks  0.993548\n"
          ]
        }
      ],
      "source": [
        "print(results_table)"
      ]
    },
    {
      "cell_type": "code",
      "execution_count": 8,
      "metadata": {
        "id": "euPb4GDRlF9k"
      },
      "outputs": [],
      "source": [
        "pivoted_results = results_table.pivot(index='Model', columns='Sampler', values='Accuracy')\n"
      ]
    },
    {
      "cell_type": "code",
      "execution_count": 9,
      "metadata": {
        "colab": {
          "base_uri": "https://localhost:8080/"
        },
        "id": "22KJT7LLlF9k",
        "outputId": "e1e57535-03c3-441f-c480-a0625f0571af"
      },
      "outputs": [
        {
          "output_type": "stream",
          "name": "stdout",
          "text": [
            "Sampler             NearMiss  RandomOverSampler  RandomUnderSampler     SMOTE  \\\n",
            "Model                                                                           \n",
            "DecisionTree        0.077419           0.987097            0.574194  0.941935   \n",
            "LogisticRegression  0.432258           0.877419            0.593548  0.877419   \n",
            "RandomForest        0.393548           0.993548            0.709677  0.993548   \n",
            "SVC                 0.348387           0.696774            0.625806  0.670968   \n",
            "XGBoost             0.096774           0.993548            0.600000  0.980645   \n",
            "\n",
            "Sampler             TomekLinks  \n",
            "Model                           \n",
            "DecisionTree          0.974194  \n",
            "LogisticRegression    0.993548  \n",
            "RandomForest          0.993548  \n",
            "SVC                   0.993548  \n",
            "XGBoost               0.993548  \n"
          ]
        }
      ],
      "source": [
        "print(pivoted_results)"
      ]
    }
  ],
  "metadata": {
    "kernelspec": {
      "display_name": "Python 3",
      "language": "python",
      "name": "python3"
    },
    "language_info": {
      "codemirror_mode": {
        "name": "ipython",
        "version": 3
      },
      "file_extension": ".py",
      "mimetype": "text/x-python",
      "name": "python",
      "nbconvert_exporter": "python",
      "pygments_lexer": "ipython3",
      "version": "3.11.3"
    },
    "colab": {
      "provenance": []
    }
  },
  "nbformat": 4,
  "nbformat_minor": 0
}